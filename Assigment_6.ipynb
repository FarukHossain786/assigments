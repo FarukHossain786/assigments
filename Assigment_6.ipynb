{
 "cells": [
  {
   "cell_type": "raw",
   "id": "ece1431b",
   "metadata": {},
   "source": [
    "1. What are escape characters, and how do you use them?"
   ]
  },
  {
   "cell_type": "markdown",
   "id": "e309f960",
   "metadata": {},
   "source": [
    "Sometimes we want to use special characters quatation and also we want to make a new line directly we cant do but using some character with a backslash we can achive those. \n",
    "\n",
    "\\\\'\tSingle Quote\n",
    "\n",
    "\\\\\\\tBackslash\n",
    "\n",
    "\\\\n\tNew Line\n",
    "\n",
    "\\\\r\tCarriage Return\n",
    "\n",
    "\\\\t\tTab\n",
    "\n",
    "\\\\b\tBackspace\n",
    "\n",
    "etc."
   ]
  },
  {
   "cell_type": "raw",
   "id": "c69e3cdb",
   "metadata": {},
   "source": [
    "2. What do the escape characters n and t stand for?"
   ]
  },
  {
   "cell_type": "markdown",
   "id": "21716776",
   "metadata": {},
   "source": [
    "\\\\n New Line \n",
    "\n",
    "\\\\t Tab"
   ]
  },
  {
   "cell_type": "raw",
   "id": "97c72645",
   "metadata": {},
   "source": [
    "3. What is the way to include backslash characters in a string?"
   ]
  },
  {
   "cell_type": "markdown",
   "id": "5b6952bc",
   "metadata": {},
   "source": [
    "We have to use double backslash \\\\\\\\"
   ]
  },
  {
   "cell_type": "raw",
   "id": "672938b8",
   "metadata": {},
   "source": [
    "4. The string \"Howl's Moving Castle\" is a correct value. Why isn't the single quote character in the word Howl's not escaped a problem?"
   ]
  },
  {
   "cell_type": "markdown",
   "id": "2f92d2bc",
   "metadata": {},
   "source": [
    "Here we can use the single quote under a double quote. Also we can use double quote inside a single quote."
   ]
  },
  {
   "cell_type": "raw",
   "id": "085a8d5a",
   "metadata": {},
   "source": [
    "5. How do you write a string of newlines if you don't want to use the n character?"
   ]
  },
  {
   "cell_type": "markdown",
   "id": "25d468f5",
   "metadata": {},
   "source": [
    "We can use triple quote for writing a srting into new line.\n",
    "\n",
    "Like\n",
    "----\n",
    "\n",
    "\"\"\" Hello World\n",
    "\n",
    "I am learning python \"\"\""
   ]
  },
  {
   "cell_type": "raw",
   "id": "61271be6",
   "metadata": {},
   "source": [
    "6. What are the values of the given expressions?\n",
    "'Hello, world!'[1]\n",
    "'Hello, world!'[0:5]\n",
    "'Hello, world!'[:5]\n",
    "'Hello, world!'[3:]"
   ]
  },
  {
   "cell_type": "markdown",
   "id": "ed833c21",
   "metadata": {},
   "source": [
    "'Hello, world!'[1] => 'e'\n",
    "\n",
    "'Hello, world!'[0:5] => 'Hello'\n",
    "\n",
    "'Hello, world!'[:5] => 'Hello'\n",
    "\n",
    "'Hello, world!'[3:] => 'lo, world!'"
   ]
  },
  {
   "cell_type": "raw",
   "id": "e22c8c0b",
   "metadata": {},
   "source": [
    "7. What are the values of the following expressions?\n",
    "'Hello'.upper()\n",
    "'Hello'.upper().isupper()\n",
    "'Hello'.upper().lower()"
   ]
  },
  {
   "cell_type": "markdown",
   "id": "33f9b869",
   "metadata": {},
   "source": [
    "'Hello'.upper() => \"HELLO\"\n",
    "\n",
    "'Hello'.upper().isupper() => True\n",
    "\n",
    "'Hello'.upper().lower() => 'hello'"
   ]
  },
  {
   "cell_type": "raw",
   "id": "6e2c4879",
   "metadata": {},
   "source": [
    "8. What are the values of the following expressions?\n",
    "'Remember, remember, the fifth of July.'.split()\n",
    "'-'.join('There can only one.'.split())"
   ]
  },
  {
   "cell_type": "markdown",
   "id": "f634b810",
   "metadata": {},
   "source": [
    "'Remember, remember, the fifth of July.'.split()\n",
    "\n",
    "Ans. ['Remember,', 'remember,', 'the', 'fifth', 'of', 'July.']\n",
    "\n",
    "'-'.join('There can only one.'.split())\n",
    "\n",
    "Ans. 'There-can-only-one.'"
   ]
  },
  {
   "cell_type": "raw",
   "id": "a5e8c641",
   "metadata": {},
   "source": [
    "9. What are the methods for right-justifying, left-justifying, and centering a string?"
   ]
  },
  {
   "cell_type": "markdown",
   "id": "6650c9c6",
   "metadata": {},
   "source": [
    "rjust() for right justifying,\n",
    "\n",
    "ljust() for left justifying,\n",
    "\n",
    "and center() for centering a string."
   ]
  },
  {
   "cell_type": "raw",
   "id": "5e8d227d",
   "metadata": {},
   "source": [
    "10. What is the best way to remove whitespace characters from the start or end?"
   ]
  },
  {
   "cell_type": "markdown",
   "id": "7c9bee65",
   "metadata": {},
   "source": [
    "We can use the strip() function for removing the left and right space."
   ]
  },
  {
   "cell_type": "code",
   "execution_count": null,
   "id": "e677c0b2",
   "metadata": {},
   "outputs": [],
   "source": []
  }
 ],
 "metadata": {
  "kernelspec": {
   "display_name": "Python 3 (ipykernel)",
   "language": "python",
   "name": "python3"
  },
  "language_info": {
   "codemirror_mode": {
    "name": "ipython",
    "version": 3
   },
   "file_extension": ".py",
   "mimetype": "text/x-python",
   "name": "python",
   "nbconvert_exporter": "python",
   "pygments_lexer": "ipython3",
   "version": "3.9.13"
  }
 },
 "nbformat": 4,
 "nbformat_minor": 5
}
