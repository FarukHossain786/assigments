{
 "cells": [
  {
   "cell_type": "raw",
   "id": "62463d31",
   "metadata": {},
   "source": [
    "1.What are the two values of the Boolean data type? How do you write them?\n",
    "\n",
    "=> The two values are True and False"
   ]
  },
  {
   "cell_type": "raw",
   "id": "99fe93dc",
   "metadata": {},
   "source": [
    "2.What are the three different types of Boolean operators?\n",
    "\n",
    "=> AND(&&), OR(||) and NOT(!) those are the boolean operators. "
   ]
  },
  {
   "cell_type": "raw",
   "id": "3b8e70ed",
   "metadata": {},
   "source": [
    "3.Make a list of each Boolean operator&#39;s truth tables (i.e. every possible combination of Boolean\n",
    "values for the operator and what it evaluate )."
   ]
  },
  {
   "cell_type": "markdown",
   "id": "47a351b2",
   "metadata": {},
   "source": [
    "\n",
    "\n",
    "AND\n",
    "-------\n",
    "| Input 1 | Input 2 | Output |\n",
    "| --- | --- | --- |\n",
    "| 0 | 0 | 0 |\n",
    "| --- | --- | --- |\n",
    "| 0 | 1 | 0 |\n",
    "| --- | --- | --- |\n",
    "| 1 | 0 | 0 |\n",
    "| --- | --- | --- |\n",
    "| 1 | 1 | 1 |\n",
    "\n",
    "OR\n",
    "-------\n",
    "| Input 1 | Input 2 | Output |\n",
    "| --- | --- | --- |\n",
    "| 0 | 0 | 0 |\n",
    "| --- | --- | --- |\n",
    "| 0 | 1 | 1 |\n",
    "| --- | --- | --- |\n",
    "| 1 | 0 | 1 |\n",
    "| --- | --- | --- |\n",
    "| 1 | 1 | 1 |\n",
    "\n",
    "NOT\n",
    "-------\n",
    "| Input | Output |\n",
    "| --- | --- |\n",
    "| 0 | 1 |\n",
    "| --- | --- |\n",
    "| 1 | 0 |\n",
    "\n",
    " "
   ]
  },
  {
   "cell_type": "raw",
   "id": "1f606b56",
   "metadata": {},
   "source": [
    "4.What are the values of the following expressions?\n",
    "\n",
    "\n",
    "(5 &gt; 4) and (3 == 5)\n",
    "=> True\n",
    "\n",
    "\n",
    "not (5 &gt; 4)\n",
    "=>False\n",
    "\n",
    "(5 &gt; 4) or (3 == 5)\n",
    "=>True\n",
    "\n",
    "\n",
    "not ((5 &gt; 4) or (3 == 5))\n",
    "=>False\n",
    "\n",
    "(True and True) and (True == False)\n",
    "=>False \n",
    "\n",
    "\n",
    "(not False) or (not True)\n",
    "=>True"
   ]
  },
  {
   "cell_type": "raw",
   "id": "de589ae7",
   "metadata": {},
   "source": [
    "5.What are the six comparison operators?\n",
    "\n",
    " less than \"<\", greater than \">\", less than or equal to \"<=\", greater than or equal to \">=\", equal to \"==\", and not equal to \"!\".\n"
   ]
  },
  {
   "cell_type": "raw",
   "id": "60187a53",
   "metadata": {},
   "source": [
    "6.How do you tell the difference between the equal to and assignment operators?Describe a\n",
    "condition and when you would use one.\n",
    "\n",
    "The assignment operator is used to assign the values to the variable. The equality operator is used to compare the values of both the variables and the result is true or false.\n",
    "\n",
    "Eg: \n",
    "---\n",
    "Assigment Operator \n",
    "\n",
    "x = 10\n",
    "\n",
    "y = 20\n",
    "\n",
    "Equality Operator\n",
    "\n",
    "if x == y:\n",
    "    return True\n",
    "else:\n",
    "    return False\n",
    "    \n",
    "Ans.False\n"
   ]
  },
  {
   "cell_type": "raw",
   "id": "f1955f54",
   "metadata": {},
   "source": [
    "7.Identify the three blocks in this code:\n",
    "\n",
    "spam = 0\n",
    "if spam == 10:\n",
    "    print('eggs')\n",
    "\n",
    "if spam > 5:\n",
    "    print('bacon')\n",
    "\n",
    "else:\n",
    "    print('ham')\n",
    "    print('spam')\n",
    "    print('spam')\n",
    "    \n",
    "ham\n",
    "spam\n",
    "spam"
   ]
  },
  {
   "cell_type": "raw",
   "id": "c2dfa41d",
   "metadata": {},
   "source": [
    "8. Write code that prints Hello if 1 is stored in spam, prints Howdy if 2 is stored in spam, and prints\n",
    "Greetings! if anything else is stored in spam.\n",
    "\n",
    "spam = 2\n",
    "\n",
    "if spam == 1:\n",
    "    print('Hello')\n",
    "    \n",
    "elif spam == 2:\n",
    "    print(\"Howdy\")\n",
    "    \n",
    "else:\n",
    "    print(\"Greetings!\")\n",
    "    "
   ]
  },
  {
   "cell_type": "raw",
   "id": "2c621e73",
   "metadata": {},
   "source": [
    "9.If your programme is stuck in an endless loop, what keys you’ll press?\n",
    "\n",
    "I'll reset my terminal with pressing Ctrl+c"
   ]
  },
  {
   "cell_type": "raw",
   "id": "5db9d9a3",
   "metadata": {},
   "source": [
    "10. How can you tell the difference between break and continue?\n",
    "\n",
    "We can get the difference between break and continue using a loop. If the loop retiving get stoped then its a break. When the next itration occour then itst a continue statement."
   ]
  },
  {
   "cell_type": "raw",
   "id": "85de5eee",
   "metadata": {},
   "source": [
    "11. In a for loop, what is the difference between range(10), range(0, 10), and range(0, 10, 1)?\n",
    "\n",
    "In the all scenario the loop will iterate 10 times."
   ]
  },
  {
   "cell_type": "raw",
   "id": "03f9a9f8",
   "metadata": {},
   "source": [
    "12. Write a short program that prints the numbers 1 to 10 using a for loop. Then write an equivalent\n",
    "program that prints the numbers 1 to 10 using a while loop."
   ]
  },
  {
   "cell_type": "raw",
   "id": "71b3bca7",
   "metadata": {},
   "source": [
    "for i in range(1, 11):\n",
    "    print(i)"
   ]
  },
  {
   "cell_type": "code",
   "execution_count": 25,
   "id": "45014d3d",
   "metadata": {},
   "outputs": [
    {
     "name": "stdout",
     "output_type": "stream",
     "text": [
      "1\n",
      "2\n",
      "3\n",
      "4\n",
      "5\n",
      "6\n",
      "7\n",
      "8\n",
      "9\n",
      "10\n"
     ]
    }
   ],
   "source": [
    "x = 1\n",
    "while x <= 10:\n",
    "    print(x)\n",
    "    x += 1"
   ]
  },
  {
   "cell_type": "raw",
   "id": "40daaaba",
   "metadata": {},
   "source": [
    "13. If you had a function named bacon() inside a module named spam, how would you call it after\n",
    "importing spam?\n",
    "\n",
    "import spam\n",
    "\n",
    "spam.bacon()"
   ]
  },
  {
   "cell_type": "code",
   "execution_count": null,
   "id": "487eb633",
   "metadata": {},
   "outputs": [],
   "source": []
  }
 ],
 "metadata": {
  "kernelspec": {
   "display_name": "Python 3 (ipykernel)",
   "language": "python",
   "name": "python3"
  },
  "language_info": {
   "codemirror_mode": {
    "name": "ipython",
    "version": 3
   },
   "file_extension": ".py",
   "mimetype": "text/x-python",
   "name": "python",
   "nbconvert_exporter": "python",
   "pygments_lexer": "ipython3",
   "version": "3.9.13"
  }
 },
 "nbformat": 4,
 "nbformat_minor": 5
}
