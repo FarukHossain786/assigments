{
 "cells": [
  {
   "cell_type": "raw",
   "id": "54e5163a",
   "metadata": {},
   "source": [
    "1. Is the Python Standard Library included with PyInputPlus?"
   ]
  },
  {
   "cell_type": "markdown",
   "id": "5df446cf",
   "metadata": {},
   "source": [
    "PyInputPlus is not a part of the Python Standard Library, we must install it separately using Pip."
   ]
  },
  {
   "cell_type": "raw",
   "id": "574c0a5f",
   "metadata": {},
   "source": [
    "2. Why is PyInputPlus commonly imported with import pyinputplus as pypi?"
   ]
  },
  {
   "cell_type": "markdown",
   "id": "3f1a41a6",
   "metadata": {},
   "source": [
    "import the module with import pyinputplus as pyip so that you can enter a shorter name when calling the module's functions."
   ]
  },
  {
   "cell_type": "raw",
   "id": "07d6dfdc",
   "metadata": {},
   "source": [
    "3. How do you distinguish between inputInt() and inputFloat()?"
   ]
  },
  {
   "cell_type": "markdown",
   "id": "1276e1f6",
   "metadata": {},
   "source": [
    "The inputInt() function returns an integer, while the inputFloat() function returns a string value."
   ]
  },
  {
   "cell_type": "raw",
   "id": "87b3acef",
   "metadata": {},
   "source": [
    "4. Using PyInputPlus, how do you ensure that the user enters a whole number between 0 and 99?"
   ]
  },
  {
   "cell_type": "markdown",
   "id": "6cd0a291",
   "metadata": {},
   "source": [
    "We can use greaterThan and lessThan paramiter while take input.\n",
    "\n",
    "Eg. pyip.inputNum(greaterThan=0, lessThan=99)"
   ]
  },
  {
   "cell_type": "raw",
   "id": "4366a8c3",
   "metadata": {},
   "source": [
    "5. What is transferred to the keyword arguments allowRegexes and blockRegexes?"
   ]
  },
  {
   "cell_type": "markdown",
   "id": "57d9ff5e",
   "metadata": {},
   "source": [
    "Keyword arguments take a list of regular expression strings to determine what the PyInputPlus function will accept or reject as valid input."
   ]
  },
  {
   "cell_type": "raw",
   "id": "e5d7f09a",
   "metadata": {},
   "source": [
    "6. If a blank input is entered three times, what does inputStr(limit=3) do?"
   ]
  },
  {
   "cell_type": "markdown",
   "id": "b37852f4",
   "metadata": {},
   "source": [
    "It will throw RetryLimitException exception."
   ]
  },
  {
   "cell_type": "raw",
   "id": "cee803a5",
   "metadata": {},
   "source": [
    "7. If blank input is entered three times, what does inputStr(limit=3, default='hello') do?"
   ]
  },
  {
   "cell_type": "markdown",
   "id": "4ff3a67b",
   "metadata": {},
   "source": [
    "It will take default as value."
   ]
  },
  {
   "cell_type": "code",
   "execution_count": null,
   "id": "b355aa64",
   "metadata": {},
   "outputs": [],
   "source": []
  }
 ],
 "metadata": {
  "kernelspec": {
   "display_name": "Python 3 (ipykernel)",
   "language": "python",
   "name": "python3"
  },
  "language_info": {
   "codemirror_mode": {
    "name": "ipython",
    "version": 3
   },
   "file_extension": ".py",
   "mimetype": "text/x-python",
   "name": "python",
   "nbconvert_exporter": "python",
   "pygments_lexer": "ipython3",
   "version": "3.9.13"
  }
 },
 "nbformat": 4,
 "nbformat_minor": 5
}
