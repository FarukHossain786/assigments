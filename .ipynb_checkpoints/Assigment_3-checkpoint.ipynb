{
 "cells": [
  {
   "cell_type": "raw",
   "id": "ab9f7dcb",
   "metadata": {},
   "source": [
    "1. Why are functions advantageous to have in your programs?"
   ]
  },
  {
   "cell_type": "markdown",
   "id": "db5d8470",
   "metadata": {},
   "source": [
    "There are reason to use an function in program:\n",
    "1. Code re-useblity\n",
    "2. Easy to understand code\n",
    "3. Defrancate every functionality etc. \n"
   ]
  },
  {
   "cell_type": "raw",
   "id": "2b2c8be8",
   "metadata": {},
   "source": [
    "2. When does the code in a function run: when it&#39;s specified or when it&#39;s called?"
   ]
  },
  {
   "cell_type": "markdown",
   "id": "3f71ff29",
   "metadata": {},
   "source": [
    "When the function will call then only the code will run."
   ]
  },
  {
   "cell_type": "raw",
   "id": "56d49693",
   "metadata": {},
   "source": [
    "3. What statement creates a function?"
   ]
  },
  {
   "cell_type": "markdown",
   "id": "9bfcc357",
   "metadata": {},
   "source": [
    "In python using def we create a function\n",
    "\n",
    "Eg:\n",
    "\n",
    "def even_number:\n",
    "    return 2"
   ]
  },
  {
   "cell_type": "raw",
   "id": "7dd7250f",
   "metadata": {},
   "source": [
    "4. What is the difference between a function and a function call?"
   ]
  },
  {
   "cell_type": "markdown",
   "id": "7e88dd4d",
   "metadata": {},
   "source": [
    "When we initialize block of code using a specific keywords call def and named it then its called function.\n",
    "\n",
    "When we call that name and we get some kind of inforamation its call function call.\n",
    "\n",
    "Eg:\n",
    "\n",
    "def first_name():\n",
    "    \n",
    "    return \"Faruk\"\n",
    "\n",
    "first_name()"
   ]
  },
  {
   "cell_type": "raw",
   "id": "df073565",
   "metadata": {},
   "source": [
    "5. How many global scopes are there in a Python program? How many local scopes?"
   ]
  },
  {
   "cell_type": "markdown",
   "id": "f2e10422",
   "metadata": {},
   "source": [
    "There will be only one global scope but we can declire varible as many as we want.\n",
    "\n",
    "Whenever we will create a function there will be create a local scope. As many as we want to create local scope we can create with function.\n"
   ]
  },
  {
   "cell_type": "raw",
   "id": "22b6ee05",
   "metadata": {},
   "source": [
    "6. What happens to variables in a local scope when the function call returns?"
   ]
  },
  {
   "cell_type": "markdown",
   "id": "d2f47549",
   "metadata": {},
   "source": [
    "In a local scope call variables local variable, and the local varibles are only accessable withen the function.\n"
   ]
  },
  {
   "cell_type": "raw",
   "id": "8afa6be8",
   "metadata": {},
   "source": [
    "7. What is the concept of a return value? Is it possible to have a return value in an expression?"
   ]
  },
  {
   "cell_type": "markdown",
   "id": "609a4ab7",
   "metadata": {},
   "source": [
    "The concept of return is that the coller get a result from function. \n",
    "\n",
    "No return can only use inside with an function or method."
   ]
  },
  {
   "cell_type": "raw",
   "id": "4f4516d7",
   "metadata": {},
   "source": [
    "8. If a function does not have a return statement, what is the return value of a call to that function?"
   ]
  },
  {
   "cell_type": "markdown",
   "id": "fa725336",
   "metadata": {},
   "source": [
    "If a function dose not have return statement then thes function will return  a None type.\n"
   ]
  },
  {
   "cell_type": "raw",
   "id": "1bfd6757",
   "metadata": {},
   "source": [
    "9. How do you make a function variable refer to the global variable?"
   ]
  },
  {
   "cell_type": "markdown",
   "id": "c99543b8",
   "metadata": {},
   "source": [
    "We can make a function variable using global keyword.\n"
   ]
  },
  {
   "cell_type": "raw",
   "id": "e25b8a2f",
   "metadata": {},
   "source": [
    "10. What is the data type of None?"
   ]
  },
  {
   "cell_type": "markdown",
   "id": "b6f79066",
   "metadata": {},
   "source": [
    "The data type of None is \"NoneType\""
   ]
  },
  {
   "cell_type": "raw",
   "id": "8371405b",
   "metadata": {},
   "source": [
    "11. What does the sentence import areallyourpetsnamederic do?"
   ]
  },
  {
   "cell_type": "markdown",
   "id": "e4477c0b",
   "metadata": {},
   "source": [
    "If the module is exist then it will import that module otherwise will get a error."
   ]
  },
  {
   "cell_type": "raw",
   "id": "6b7c1af6",
   "metadata": {},
   "source": [
    "12. If you had a bacon() feature in a spam module, what would you call it after importing spam?"
   ]
  },
  {
   "cell_type": "markdown",
   "id": "cb187a95",
   "metadata": {},
   "source": [
    "After importing spam we have to call bacon() function like spam.bacon()."
   ]
  },
  {
   "cell_type": "raw",
   "id": "734d1244",
   "metadata": {},
   "source": [
    "13. What can you do to save a programme from crashing if it encounters an error?"
   ]
  },
  {
   "cell_type": "markdown",
   "id": "3b4d230b",
   "metadata": {},
   "source": [
    "We will use a error handeling to crashing a programe."
   ]
  },
  {
   "cell_type": "raw",
   "id": "e8eb2533",
   "metadata": {},
   "source": [
    "14. What is the purpose of the try clause? What is the purpose of the except clause?"
   ]
  },
  {
   "cell_type": "markdown",
   "id": "1b0d702a",
   "metadata": {},
   "source": [
    "try and except is used to handel error in python.\n",
    "\n",
    "\"try\" block is used to handel run time error in a programe, if the programe will run successfully then it will return the result.\n",
    "\n",
    "If got any error in run time then it will though ta exception into a \"except\" block."
   ]
  },
  {
   "cell_type": "code",
   "execution_count": null,
   "id": "293ed80a",
   "metadata": {},
   "outputs": [],
   "source": []
  }
 ],
 "metadata": {
  "kernelspec": {
   "display_name": "Python 3 (ipykernel)",
   "language": "python",
   "name": "python3"
  },
  "language_info": {
   "codemirror_mode": {
    "name": "ipython",
    "version": 3
   },
   "file_extension": ".py",
   "mimetype": "text/x-python",
   "name": "python",
   "nbconvert_exporter": "python",
   "pygments_lexer": "ipython3",
   "version": "3.9.13"
  }
 },
 "nbformat": 4,
 "nbformat_minor": 5
}
