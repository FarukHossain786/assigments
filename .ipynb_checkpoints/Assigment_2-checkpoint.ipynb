{
 "cells": [
  {
   "cell_type": "markdown",
   "id": "bf29d428",
   "metadata": {},
   "source": [
    "1.What are the two values of the Boolean data type? How do you write them?\n",
    "\n",
    "=> The two values are True and False"
   ]
  },
  {
   "cell_type": "markdown",
   "id": "0384811c",
   "metadata": {},
   "source": [
    "2.What are the three different types of Boolean operators?\n",
    "\n",
    "=> AND(&&), OR(||) and NOT(!) those are the boolean operators. "
   ]
  },
  {
   "cell_type": "markdown",
   "id": "66a4fed2",
   "metadata": {},
   "source": [
    "3.Make a list of each Boolean operator&#39;s truth tables (i.e. every possible combination of Boolean\n",
    "values for the operator and what it evaluate ).\n",
    "\n",
    "AND\n",
    "-------\n",
    "| Input 1 | Input 2 | Output |\n",
    "| --- | --- | --- |\n",
    "| 0 | 0 | 0 |\n",
    "| --- | --- | --- |\n",
    "| 0 | 1 | 0 |\n",
    "| --- | --- | --- |\n",
    "| 1 | 0 | 0 |\n",
    "| --- | --- | --- |\n",
    "| 1 | 1 | 1 |\n",
    "\n",
    "OR\n",
    "-------\n",
    "| Input 1 | Input 2 | Output |\n",
    "| --- | --- | --- |\n",
    "| 0 | 0 | 0 |\n",
    "| --- | --- | --- |\n",
    "| 0 | 1 | 1 |\n",
    "| --- | --- | --- |\n",
    "| 1 | 0 | 1 |\n",
    "| --- | --- | --- |\n",
    "| 1 | 1 | 1 |\n",
    "\n",
    "NOT\n",
    "-------\n",
    "| Input | Output |\n",
    "| --- | --- |\n",
    "| 0 | 1 |\n",
    "| --- | --- |\n",
    "| 1 | 0 |\n",
    "\n",
    " "
   ]
  },
  {
   "cell_type": "markdown",
   "id": "c48f7715",
   "metadata": {},
   "source": [
    "4.What are the values of the following expressions?\n",
    "\n",
    "\n",
    "(5 &gt; 4) and (3 == 5)\n",
    "=> True\n",
    "\n",
    "\n",
    "not (5 &gt; 4)\n",
    "=>False\n",
    "\n",
    "(5 &gt; 4) or (3 == 5)\n",
    "=>True\n",
    "\n",
    "\n",
    "not ((5 &gt; 4) or (3 == 5))\n",
    "=>False\n",
    "\n",
    "(True and True) and (True == False)\n",
    "=>False \n",
    "\n",
    "\n",
    "(not False) or (not True)\n",
    "=>True"
   ]
  },
  {
   "cell_type": "code",
   "execution_count": 5,
   "id": "2613c172",
   "metadata": {},
   "outputs": [
    {
     "data": {
      "text/plain": [
       "True"
      ]
     },
     "execution_count": 5,
     "metadata": {},
     "output_type": "execute_result"
    }
   ],
   "source": []
  },
  {
   "cell_type": "code",
   "execution_count": null,
   "id": "a7412c51",
   "metadata": {},
   "outputs": [],
   "source": []
  }
 ],
 "metadata": {
  "kernelspec": {
   "display_name": "Python 3 (ipykernel)",
   "language": "python",
   "name": "python3"
  },
  "language_info": {
   "codemirror_mode": {
    "name": "ipython",
    "version": 3
   },
   "file_extension": ".py",
   "mimetype": "text/x-python",
   "name": "python",
   "nbconvert_exporter": "python",
   "pygments_lexer": "ipython3",
   "version": "3.9.13"
  }
 },
 "nbformat": 4,
 "nbformat_minor": 5
}
