{
 "cells": [
  {
   "cell_type": "raw",
   "id": "bc1f2ec7",
   "metadata": {},
   "source": [
    "1. What does an empty dictionary's code look like?"
   ]
  },
  {
   "cell_type": "markdown",
   "id": "3db58bc7",
   "metadata": {},
   "source": [
    "Pair of curly braces {} is an empty dictionary."
   ]
  },
  {
   "cell_type": "raw",
   "id": "473ae15d",
   "metadata": {},
   "source": [
    "2. What is the value of a dictionary value with the key 'foo' and the value 42?"
   ]
  },
  {
   "cell_type": "markdown",
   "id": "92b7c21c",
   "metadata": {},
   "source": [
    "dist = {'foo': 42}"
   ]
  },
  {
   "cell_type": "raw",
   "id": "973c3c82",
   "metadata": {},
   "source": [
    "3. What is the most significant distinction between a dictionary and a list?"
   ]
  },
  {
   "cell_type": "markdown",
   "id": "f84f2ac9",
   "metadata": {},
   "source": [
    "In a dictionary key is user define but in a list key start with 0 it will increase depends on element in list. "
   ]
  },
  {
   "cell_type": "raw",
   "id": "a8718abd",
   "metadata": {},
   "source": [
    "4. What happens if you try to access spam['foo'] if spam is {'bar': 100}?"
   ]
  },
  {
   "cell_type": "markdown",
   "id": "23355ee4",
   "metadata": {},
   "source": [
    "In this case we will get an KeyError. "
   ]
  },
  {
   "cell_type": "raw",
   "id": "62ffa540",
   "metadata": {},
   "source": [
    "5. If a dictionary is stored in spam, what is the difference between the expressions 'cat' in spam and 'cat' in spam.keys()?"
   ]
  },
  {
   "cell_type": "markdown",
   "id": "86ab8eb3",
   "metadata": {},
   "source": [
    "If we run sapm['cat'] then it will return the value.\n",
    "\n",
    "spam.keys() will return list of keys."
   ]
  },
  {
   "cell_type": "raw",
   "id": "b0a7e591",
   "metadata": {},
   "source": [
    "7. What is a shortcut for the following code?\n",
    "if 'color' not in spam:\n",
    "spam['color'] = 'black'"
   ]
  },
  {
   "cell_type": "code",
   "execution_count": 14,
   "id": "a911b576",
   "metadata": {},
   "outputs": [],
   "source": [
    "spam ={}\n",
    "spam['color'] = spam.get('color', 'black')"
   ]
  },
  {
   "cell_type": "code",
   "execution_count": 15,
   "id": "d7d0725f",
   "metadata": {},
   "outputs": [
    {
     "data": {
      "text/plain": [
       "{'color': 'black'}"
      ]
     },
     "execution_count": 15,
     "metadata": {},
     "output_type": "execute_result"
    }
   ],
   "source": [
    "spam"
   ]
  },
  {
   "cell_type": "raw",
   "id": "52037d30",
   "metadata": {},
   "source": [
    "8. How do you \"pretty print\" dictionary values using which module and function?"
   ]
  },
  {
   "cell_type": "markdown",
   "id": "fe995af7",
   "metadata": {},
   "source": [
    "The module used is the pprint module within which we have the pprint function of the same name"
   ]
  },
  {
   "cell_type": "code",
   "execution_count": null,
   "id": "ba2d901d",
   "metadata": {},
   "outputs": [],
   "source": []
  }
 ],
 "metadata": {
  "kernelspec": {
   "display_name": "Python 3 (ipykernel)",
   "language": "python",
   "name": "python3"
  },
  "language_info": {
   "codemirror_mode": {
    "name": "ipython",
    "version": 3
   },
   "file_extension": ".py",
   "mimetype": "text/x-python",
   "name": "python",
   "nbconvert_exporter": "python",
   "pygments_lexer": "ipython3",
   "version": "3.9.13"
  }
 },
 "nbformat": 4,
 "nbformat_minor": 5
}
