{
 "cells": [
  {
   "cell_type": "raw",
   "id": "5d737dfc",
   "metadata": {},
   "source": [
    "1. What is the name of the feature responsible for generating Regex objects?"
   ]
  },
  {
   "cell_type": "markdown",
   "id": "8b7d5cd8",
   "metadata": {},
   "source": [
    "re.complier() module is responsible for generating Regex object."
   ]
  },
  {
   "cell_type": "raw",
   "id": "abd9e01e",
   "metadata": {},
   "source": [
    "2. Why do raw strings often appear in Regex objects?"
   ]
  },
  {
   "cell_type": "markdown",
   "id": "52319597",
   "metadata": {},
   "source": [
    "raw strings often because of avoide escape charecter.\n"
   ]
  },
  {
   "cell_type": "raw",
   "id": "c106dd6f",
   "metadata": {},
   "source": [
    "3. What is the return value of the search() method?"
   ]
  },
  {
   "cell_type": "markdown",
   "id": "87e92c78",
   "metadata": {},
   "source": [
    "The re.search() function will search the regular expression pattern and return the first occurrence."
   ]
  },
  {
   "cell_type": "raw",
   "id": "2a28fd38",
   "metadata": {},
   "source": [
    "4. From a Match item, how do you get the actual strings that match the pattern?"
   ]
  },
  {
   "cell_type": "markdown",
   "id": "640d8d60",
   "metadata": {},
   "source": [
    "The group() method returns strings of the matched text."
   ]
  },
  {
   "cell_type": "raw",
   "id": "42e6eb86",
   "metadata": {},
   "source": [
    "5. In the regex which created from the r'(\\d\\d\\d)-(\\d\\d\\d-\\d\\d\\d\\d)', what does group zero cover? Group 2? Group 1?"
   ]
  },
  {
   "cell_type": "markdown",
   "id": "3b769c28",
   "metadata": {},
   "source": [
    "Group 0 is the entire match, group 1 covers the first set of parentheses, and group 2 covers the second set of parentheses."
   ]
  },
  {
   "cell_type": "raw",
   "id": "ec0c71e2",
   "metadata": {},
   "source": [
    "6. In standard expression syntax, parentheses and intervals have distinct meanings. How can you tell a regex that you want it to fit real parentheses and periods?"
   ]
  },
  {
   "cell_type": "markdown",
   "id": "3f113b81",
   "metadata": {},
   "source": [
    "Periods and parentheses can be escaped with a backslash: \\., \\(, and \\)."
   ]
  },
  {
   "cell_type": "raw",
   "id": "10b5d643",
   "metadata": {},
   "source": [
    "7. The findall() method returns a string list or a list of string tuples. What causes it to return one of the two options?"
   ]
  },
  {
   "cell_type": "markdown",
   "id": "c1baa6af",
   "metadata": {},
   "source": [
    "If the regex has no groups, a list of strings is returned. If the regex has groups, a list of tuples of strings is returned."
   ]
  },
  {
   "cell_type": "raw",
   "id": "c908d3a3",
   "metadata": {},
   "source": [
    "8. In standard expressions, what does the | character mean?"
   ]
  },
  {
   "cell_type": "markdown",
   "id": "dc2a2e24",
   "metadata": {},
   "source": [
    "If A and B are regular expressions, A|B will match any string that matches either A or B."
   ]
  },
  {
   "cell_type": "raw",
   "id": "8b5654eb",
   "metadata": {},
   "source": [
    "9. In regular expressions, what does the character stand for?"
   ]
  },
  {
   "cell_type": "markdown",
   "id": "d8666236",
   "metadata": {},
   "source": [
    "All characters, except those having special meaning in regex, matches themselves. E.g., the regex x matches substring \"x\"; regex 9 matches \"9\"; regex = matches \"=\"; and regex @ matches \"@\"."
   ]
  },
  {
   "cell_type": "raw",
   "id": "5b3ce9fe",
   "metadata": {},
   "source": [
    "10.In regular expressions, what is the difference between the + and * characters?"
   ]
  },
  {
   "cell_type": "markdown",
   "id": "a2818ef5",
   "metadata": {},
   "source": [
    "\"*\" represent zero or more occurrences\n",
    "\n",
    "\"+\" represent One or more occurrences"
   ]
  },
  {
   "cell_type": "raw",
   "id": "c0d6d225",
   "metadata": {},
   "source": [
    "11. What is the difference between {4} and {4,5} in regular expression?"
   ]
  },
  {
   "cell_type": "markdown",
   "id": "b51785e4",
   "metadata": {},
   "source": [
    "{4} It will match only 4\n",
    "\n",
    "{4,5} It will match 4 as well as 5"
   ]
  },
  {
   "cell_type": "raw",
   "id": "adb60937",
   "metadata": {},
   "source": [
    "12. What do you mean by the \\d, \\w, and \\s shorthand character classes signify in regular expressions?"
   ]
  },
  {
   "cell_type": "markdown",
   "id": "717e3db7",
   "metadata": {},
   "source": [
    "The \\d, \\w, and \\s shorthand character classes match a single digit, word, or space character, respectively."
   ]
  },
  {
   "cell_type": "raw",
   "id": "870fcdb1",
   "metadata": {},
   "source": [
    "13. What do means by \\D, \\W, and \\S shorthand character classes signify in regular expressions?"
   ]
  },
  {
   "cell_type": "markdown",
   "id": "e81043e6",
   "metadata": {},
   "source": [
    "\\D\tReturns a match where the string DOES NOT contain digits\n",
    "\n",
    "\\W\tReturns a match where the string DOES NOT contain any word characters\n",
    "\n",
    "\\S\tReturns a match where the string DOES NOT contain a white space character"
   ]
  },
  {
   "cell_type": "raw",
   "id": "93942209",
   "metadata": {},
   "source": [
    "14. What is the difference between .*? and .*?"
   ]
  },
  {
   "cell_type": "markdown",
   "id": "7d62da99",
   "metadata": {},
   "source": [
    "(.*?) matches any character (.) any number of times (*), as few times as possible to make the regex match (?). You'll get a match on any string, but you'll only capture a blank string because of the question mark. This feature is much more useful when you have a more complicated regex. Here, the parser doesn't have to capture anything at all to get a match: the asterisk allows any number of characters in the capturing group, while the question mark makes the parser save as many as possible from the input text for later, resulting in nothing being captured.\n",
    "\n",
    "(.*)? captures a group zero or one times (?). That group consists of a run of any length (*) of any character (.). This also will match anything, but it will capture the first line, since the dot matches anything except a newline.\n"
   ]
  },
  {
   "cell_type": "raw",
   "id": "a704e945",
   "metadata": {},
   "source": [
    "15. What is the syntax for matching both numbers and lowercase letters with a character class?"
   ]
  },
  {
   "cell_type": "markdown",
   "id": "c27d72fb",
   "metadata": {},
   "source": [
    "[a-z0-9]"
   ]
  },
  {
   "cell_type": "raw",
   "id": "65c38ed0",
   "metadata": {},
   "source": [
    "16. What is the procedure for making a normal expression in regax case insensitive?"
   ]
  },
  {
   "cell_type": "markdown",
   "id": "2b0b32f1",
   "metadata": {},
   "source": [
    "re.search('test', 'TeSt', re.IGNORECASE)\n",
    "\n",
    "re.match('test', 'TeSt', re.IGNORECASE)"
   ]
  },
  {
   "cell_type": "raw",
   "id": "5c2254aa",
   "metadata": {},
   "source": [
    "17. What does the . character normally match? What does it match if re.DOTALL is passed as 2nd argument in re.compile()?"
   ]
  },
  {
   "cell_type": "markdown",
   "id": "b21df026",
   "metadata": {},
   "source": [
    "\".\" character normally matches any character except the newline character. If re. DOTALL is passed as the second argument to re. compile(), then the dot will also match newline characters."
   ]
  },
  {
   "cell_type": "raw",
   "id": "7e409b60",
   "metadata": {},
   "source": [
    "18. If numReg = re.compile(r'\\d+'), what will numRegex.sub('X', '11 drummers, 10 pipers, five rings, 4 hen') return?"
   ]
  },
  {
   "cell_type": "code",
   "execution_count": 3,
   "id": "3cab6dc3",
   "metadata": {},
   "outputs": [
    {
     "data": {
      "text/plain": [
       "'X drummers, X pipers, five rings, X hen'"
      ]
     },
     "execution_count": 3,
     "metadata": {},
     "output_type": "execute_result"
    }
   ],
   "source": [
    "import re\n",
    "numReg = re.compile(r'\\d+')\n",
    "\n",
    "numReg.sub('X', '11 drummers, 10 pipers, five rings, 4 hen')"
   ]
  },
  {
   "cell_type": "raw",
   "id": "44788815",
   "metadata": {},
   "source": [
    "19. What does passing re.VERBOSE as the 2nd argument to re.compile() allow to do?"
   ]
  },
  {
   "cell_type": "markdown",
   "id": "60ce8866",
   "metadata": {},
   "source": [
    "The re. VERBOSE argument allows you to add whitespace and comments to the string passed to re. compile()."
   ]
  },
  {
   "cell_type": "raw",
   "id": "cfdd49d3",
   "metadata": {},
   "source": [
    "20. How would you write a regex that match a number with comma for every three digits? It must match the given following:\n",
    "\n",
    "'42'\n",
    "'1,234'\n",
    "'6,368,745'"
   ]
  },
  {
   "cell_type": "markdown",
   "id": "63754a14",
   "metadata": {},
   "source": [
    "([0-9]{1,3}\\\\,?)"
   ]
  },
  {
   "cell_type": "code",
   "execution_count": null,
   "id": "77eb629e",
   "metadata": {},
   "outputs": [],
   "source": []
  }
 ],
 "metadata": {
  "kernelspec": {
   "display_name": "Python 3 (ipykernel)",
   "language": "python",
   "name": "python3"
  },
  "language_info": {
   "codemirror_mode": {
    "name": "ipython",
    "version": 3
   },
   "file_extension": ".py",
   "mimetype": "text/x-python",
   "name": "python",
   "nbconvert_exporter": "python",
   "pygments_lexer": "ipython3",
   "version": "3.9.13"
  }
 },
 "nbformat": 4,
 "nbformat_minor": 5
}
