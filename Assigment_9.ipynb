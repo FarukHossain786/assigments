{
 "cells": [
  {
   "cell_type": "raw",
   "id": "351ed874",
   "metadata": {},
   "source": [
    "1. To what does a relative path refer?"
   ]
  },
  {
   "cell_type": "markdown",
   "id": "2abadd6c",
   "metadata": {},
   "source": [
    "A relative path is a link that points to a file location on the page where the link is located."
   ]
  },
  {
   "cell_type": "raw",
   "id": "abe2c21a",
   "metadata": {},
   "source": [
    "2. What does an absolute path start with your operating system?"
   ]
  },
  {
   "cell_type": "markdown",
   "id": "4347caa3",
   "metadata": {},
   "source": [
    "An absolute path always begins from the absolute start of your hard drive and describes every step you must take through the filesystem to end up at the target location."
   ]
  },
  {
   "cell_type": "raw",
   "id": "4c1245c5",
   "metadata": {},
   "source": [
    "3. What do the functions os.getcwd() and os.chdir() do?"
   ]
  },
  {
   "cell_type": "markdown",
   "id": "6997f2a4",
   "metadata": {},
   "source": [
    "os.getcwd() => Returm current directiry.\n",
    "\n",
    "os.chdir() => Use to changed the directory."
   ]
  },
  {
   "cell_type": "raw",
   "id": "f6a379e1",
   "metadata": {},
   "source": [
    "4. What are the . and .. folders?"
   ]
  },
  {
   "cell_type": "markdown",
   "id": "e2c9e861",
   "metadata": {},
   "source": [
    "\".\" =>Current folder \n",
    "\n",
    "\"..\" =>Parrent folder"
   ]
  },
  {
   "cell_type": "raw",
   "id": "6882dc92",
   "metadata": {},
   "source": [
    "5. In C:\\bacon\\eggs\\spam.txt, which part is the dir name, and which part is the base name?"
   ]
  },
  {
   "cell_type": "markdown",
   "id": "75a31072",
   "metadata": {},
   "source": [
    "C:\\bacon\\eggs is the dir name, while spam. txt is the base name."
   ]
  },
  {
   "cell_type": "raw",
   "id": "bf23e476",
   "metadata": {},
   "source": [
    "6. What are the three “mode” arguments that can be passed to the open() function?"
   ]
  },
  {
   "cell_type": "markdown",
   "id": "2ce8aae0",
   "metadata": {},
   "source": [
    "\"r\" => Read only\n",
    "\n",
    "\"w\" => Write Only\n",
    "\n",
    "\"w+\" => Read and write"
   ]
  },
  {
   "cell_type": "raw",
   "id": "dddd2e6c",
   "metadata": {},
   "source": [
    "7. What happens if an existing file is opened in write mode?"
   ]
  },
  {
   "cell_type": "markdown",
   "id": "3fc1f0ee",
   "metadata": {},
   "source": [
    "1. We can change the file content.  \n",
    "\n",
    "2. We can't open that file again if already opened."
   ]
  },
  {
   "cell_type": "raw",
   "id": "211570f9",
   "metadata": {},
   "source": [
    "8. How do you tell the difference between read() and readlines()?"
   ]
  },
  {
   "cell_type": "markdown",
   "id": "799b93fb",
   "metadata": {},
   "source": [
    "read() will read the whole file a text but the readlines() will read file as a list element when gets a new line with \\n."
   ]
  },
  {
   "cell_type": "markdown",
   "id": "80927f68",
   "metadata": {},
   "source": [
    "EG:\n",
    "---\n",
    "\n",
    "first line\n",
    "\n",
    "second line\n",
    "\n",
    "third line\n",
    "\n",
    "#if above text is a file\n",
    "\n",
    "with open(\"test.txt\", \"r\") as file:\n",
    "    line = file.readline()\n",
    "    print(line)\n",
    "    \n",
    "OP: first line\n",
    "\n",
    "\n",
    "with open(\"test.txt\", \"r\") as file:\n",
    "    content = file.read()\n",
    "    print(content)\n",
    "    \n",
    "OP: first line\n",
    "second line\n",
    "third line\n",
    "\n",
    "\n",
    "with open(\"test.txt\", \"r\") as file:\n",
    "    content = file.read(15)\n",
    "    print(content)\n",
    "    \n",
    "OP: ['first line\\n', 'second line\\n', 'third line\\n']\n",
    "\n"
   ]
  },
  {
   "cell_type": "raw",
   "id": "f6a7c452",
   "metadata": {},
   "source": [
    "9. What data structure does a shelf value resemble?"
   ]
  },
  {
   "cell_type": "markdown",
   "id": "a94e0300",
   "metadata": {},
   "source": [
    "A shelf value resembles a dictionary value; it has keys and values, along with keys() and values() methods that work similarly to the dictionary methods of the same names."
   ]
  },
  {
   "cell_type": "code",
   "execution_count": null,
   "id": "6f5fb8ac",
   "metadata": {},
   "outputs": [],
   "source": []
  }
 ],
 "metadata": {
  "kernelspec": {
   "display_name": "Python 3 (ipykernel)",
   "language": "python",
   "name": "python3"
  },
  "language_info": {
   "codemirror_mode": {
    "name": "ipython",
    "version": 3
   },
   "file_extension": ".py",
   "mimetype": "text/x-python",
   "name": "python",
   "nbconvert_exporter": "python",
   "pygments_lexer": "ipython3",
   "version": "3.9.13"
  }
 },
 "nbformat": 4,
 "nbformat_minor": 5
}
